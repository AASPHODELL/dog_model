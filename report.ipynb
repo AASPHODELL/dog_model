{
 "cells": [
  {
   "cell_type": "markdown",
   "metadata": {},
   "source": [
    "Загрузка датасета "
   ]
  },
  {
   "cell_type": "code",
   "execution_count": 3,
   "metadata": {},
   "outputs": [
    {
     "name": "stdout",
     "output_type": "stream",
     "text": [
      "Found 18179 files belonging to 120 classes.\n",
      "Found 2401 files belonging to 120 classes.\n"
     ]
    }
   ],
   "source": [
    "import cv2\n",
    "import pathlib\n",
    "import tensorflow as tf\n",
    "import numpy as np\n",
    "import matplotlib.pyplot as plt\n",
    "from tensorflow.keras.layers import Dense\n",
    "from tensorflow.keras.models import Model\n",
    "from tensorflow.keras.callbacks import Callback, ModelCheckpoint, EarlyStopping, ReduceLROnPlateau\n",
    "from tensorflow.keras.preprocessing.image import ImageDataGenerator\n",
    "from keras.applications.mobilenet_v2 import MobileNetV2\n",
    "from tensorflow.keras.applications import mobilenet_v2\n",
    "from tensorflow.keras.optimizers import Adam\n",
    "\n",
    "train_path = pathlib.Path(\"Images\")\n",
    "val_path = pathlib.Path(\"Test\")\n",
    "\n",
    "img_h = 224\n",
    "img_w = 224\n",
    "\n",
    "train_data = tf.keras.utils.image_dataset_from_directory(train_path)\n",
    "val_data = tf.keras.utils.image_dataset_from_directory(val_path)\n",
    "class_labels = dict(zip(train_data.class_names, range(len(train_data.class_names))))\n",
    "num_labels = len(class_labels)"
   ]
  },
  {
   "cell_type": "markdown",
   "metadata": {},
   "source": [
    "Предобработка изображений"
   ]
  },
  {
   "cell_type": "code",
   "execution_count": 4,
   "metadata": {},
   "outputs": [
    {
     "name": "stdout",
     "output_type": "stream",
     "text": [
      "Found 18179 images belonging to 120 classes.\n",
      "Found 2401 images belonging to 120 classes.\n"
     ]
    }
   ],
   "source": [
    "augmenter = ImageDataGenerator(\n",
    "    preprocessing_function=mobilenet_v2.preprocess_input,\n",
    "    rotation_range=32,\n",
    "    zoom_range=0.2,\n",
    "    width_shift_range=0.2,\n",
    "    height_shift_range=0.2,\n",
    "    shear_range=0.2,\n",
    "    horizontal_flip=True,\n",
    "    fill_mode=\"nearest\")\n",
    "\n",
    "train_gen = augmenter.flow_from_directory(train_path,\n",
    "                                          target_size=(img_h, img_w),\n",
    "                                          color_mode=\"rgb\",\n",
    "                                          class_mode=\"categorical\",\n",
    "                                          batch_size=32,\n",
    "                                          shuffle=True,\n",
    "                                          seed=123)\n",
    "\n",
    "val_gen = augmenter.flow_from_directory(val_path,\n",
    "                                        target_size=(img_h, img_w),\n",
    "                                        color_mode=\"rgb\",\n",
    "                                        class_mode=\"categorical\",\n",
    "                                        batch_size=32,\n",
    "                                        shuffle=True,\n",
    "                                        seed=123)"
   ]
  },
  {
   "cell_type": "markdown",
   "metadata": {},
   "source": [
    "Создание и натсройка модели "
   ]
  },
  {
   "cell_type": "code",
   "execution_count": 5,
   "metadata": {},
   "outputs": [],
   "source": [
    "base_model = MobileNetV2(\n",
    "    input_shape=(img_h, img_w, 3),\n",
    "    include_top=False,\n",
    "    weights='imagenet',\n",
    "    pooling='avg')\n",
    "\n",
    "base_model.trainable = False\n",
    "\n",
    "input_tensor = base_model.input\n",
    "x = Dense(128, activation='relu')(base_model.output)\n",
    "x = Dense(128, activation='relu')(x)\n",
    "output_tensor = Dense(num_labels, activation='softmax')(x)\n",
    "\n",
    "model = Model(inputs=input_tensor, outputs=output_tensor)"
   ]
  },
  {
   "cell_type": "markdown",
   "metadata": {},
   "source": [
    "Компиляция модели "
   ]
  },
  {
   "cell_type": "code",
   "execution_count": 6,
   "metadata": {},
   "outputs": [],
   "source": [
    "early_stop = EarlyStopping(\n",
    "    monitor='val_loss',\n",
    "    mode='min',\n",
    "    patience=2,\n",
    "    verbose=1,\n",
    "    restore_best_weights=True,\n",
    ")\n",
    "model_ckpt = ModelCheckpoint('dogModelV2Big.keras',\n",
    "                             monitor='val_loss',\n",
    "                             mode='min',\n",
    "                             save_best_only=True)\n",
    "\n",
    "callbacks_list = [early_stop, model_ckpt]\n",
    "\n",
    "model.compile(optimizer=Adam(learning_rate=0.001), loss='categorical_crossentropy', metrics=['accuracy'])"
   ]
  },
  {
   "cell_type": "markdown",
   "metadata": {},
   "source": [
    "Обучение модели"
   ]
  },
  {
   "cell_type": "code",
   "execution_count": 7,
   "metadata": {},
   "outputs": [
    {
     "name": "stdout",
     "output_type": "stream",
     "text": [
      "Epoch 1/20\n"
     ]
    },
    {
     "name": "stderr",
     "output_type": "stream",
     "text": [
      "/home/kali/.local/lib/python3.11/site-packages/keras/src/trainers/data_adapters/py_dataset_adapter.py:121: UserWarning: Your `PyDataset` class should call `super().__init__(**kwargs)` in its constructor. `**kwargs` can include `workers`, `use_multiprocessing`, `max_queue_size`. Do not pass these arguments to `fit()`, as they will be ignored.\n",
      "  self._warn_if_super_not_called()\n",
      "2024-06-10 23:59:34.871747: I tensorflow/core/kernels/data/shuffle_dataset_op.cc:450] ShuffleDatasetV3:30: Filling up shuffle buffer (this may take a while): 7 of 8\n",
      "2024-06-10 23:59:36.284651: I tensorflow/core/kernels/data/shuffle_dataset_op.cc:480] Shuffle buffer filled.\n"
     ]
    },
    {
     "name": "stdout",
     "output_type": "stream",
     "text": [
      "\u001b[1m569/569\u001b[0m \u001b[32m━━━━━━━━━━━━━━━━━━━━\u001b[0m\u001b[37m\u001b[0m \u001b[1m1054s\u001b[0m 2s/step - accuracy: 0.3703 - loss: 2.7170 - val_accuracy: 0.6464 - val_loss: 1.2148\n",
      "Epoch 2/20\n",
      "\u001b[1m569/569\u001b[0m \u001b[32m━━━━━━━━━━━━━━━━━━━━\u001b[0m\u001b[37m\u001b[0m \u001b[1m994s\u001b[0m 2s/step - accuracy: 0.6720 - loss: 1.1129 - val_accuracy: 0.6593 - val_loss: 1.1257\n",
      "Epoch 3/20\n",
      "\u001b[1m569/569\u001b[0m \u001b[32m━━━━━━━━━━━━━━━━━━━━\u001b[0m\u001b[37m\u001b[0m \u001b[1m568s\u001b[0m 980ms/step - accuracy: 0.7020 - loss: 0.9773 - val_accuracy: 0.6760 - val_loss: 1.0952\n",
      "Epoch 4/20\n",
      "\u001b[1m569/569\u001b[0m \u001b[32m━━━━━━━━━━━━━━━━━━━━\u001b[0m\u001b[37m\u001b[0m \u001b[1m558s\u001b[0m 973ms/step - accuracy: 0.7205 - loss: 0.9241 - val_accuracy: 0.6776 - val_loss: 1.1116\n",
      "Epoch 5/20\n",
      "\u001b[1m569/569\u001b[0m \u001b[32m━━━━━━━━━━━━━━━━━━━━\u001b[0m\u001b[37m\u001b[0m \u001b[1m556s\u001b[0m 970ms/step - accuracy: 0.7379 - loss: 0.8658 - val_accuracy: 0.6893 - val_loss: 1.0636\n",
      "Epoch 6/20\n",
      "\u001b[1m569/569\u001b[0m \u001b[32m━━━━━━━━━━━━━━━━━━━━\u001b[0m\u001b[37m\u001b[0m \u001b[1m539s\u001b[0m 939ms/step - accuracy: 0.7456 - loss: 0.8299 - val_accuracy: 0.6851 - val_loss: 1.0791\n",
      "Epoch 7/20\n",
      "\u001b[1m569/569\u001b[0m \u001b[32m━━━━━━━━━━━━━━━━━━━━\u001b[0m\u001b[37m\u001b[0m \u001b[1m537s\u001b[0m 937ms/step - accuracy: 0.7588 - loss: 0.7779 - val_accuracy: 0.6914 - val_loss: 1.0814\n",
      "Epoch 7: early stopping\n",
      "Restoring model weights from the end of the best epoch: 5.\n"
     ]
    }
   ],
   "source": [
    "hist = model.fit(\n",
    "    train_gen, validation_data=val_gen,\n",
    "    epochs=20,\n",
    "    callbacks=callbacks_list)"
   ]
  },
  {
   "cell_type": "markdown",
   "metadata": {},
   "source": [
    "Оценка модели "
   ]
  },
  {
   "cell_type": "code",
   "execution_count": 8,
   "metadata": {},
   "outputs": [
    {
     "name": "stdout",
     "output_type": "stream",
     "text": [
      "\u001b[1m76/76\u001b[0m \u001b[32m━━━━━━━━━━━━━━━━━━━━\u001b[0m\u001b[37m\u001b[0m \u001b[1m68s\u001b[0m 895ms/step - accuracy: 0.6880 - loss: 1.0903\n"
     ]
    }
   ],
   "source": [
    "(eval_loss, eval_acc) = model.evaluate(val_gen)\n",
    "\n",
    "train_loss_vals = hist.history['loss']\n",
    "val_loss_vals = hist.history['val_loss']\n",
    "train_acc_vals = hist.history['accuracy']\n",
    "val_acc_vals = hist.history['val_accuracy']"
   ]
  },
  {
   "cell_type": "markdown",
   "metadata": {},
   "source": [
    "Визуализация результатов "
   ]
  },
  {
   "cell_type": "code",
   "execution_count": 9,
   "metadata": {},
   "outputs": [
    {
     "data": {
      "image/png": "[encoded data removed]",
      "text/plain": [
       "<Figure size 1200x600 with 2 Axes>"
      ]
     },
     "metadata": {},
     "output_type": "display_data"
    }
   ],
   "source": [
    "plt.figure(figsize=(12, 6))\n",
    "\n",
    "plt.subplot(1, 2, 1)\n",
    "plt.plot(train_loss_vals, label='Training Loss')\n",
    "plt.plot(val_loss_vals, label='Validation Loss')\n",
    "plt.title('Training and Validation Loss')\n",
    "plt.xlabel('Epoch')\n",
    "plt.ylabel('Loss')\n",
    "plt.legend()\n",
    "\n",
    "plt.subplot(1, 2, 2)\n",
    "plt.plot(train_acc_vals, label='Training Accuracy')\n",
    "plt.plot(val_acc_vals, label='Validation Accuracy')\n",
    "plt.title('Training and Validation Accuracy')\n",
    "plt.xlabel('Epoch')\n",
    "plt.ylabel('Accuracy')\n",
    "plt.legend()\n",
    "\n",
    "plt.tight_layout()\n",
    "plt.show()"
   ]
  },
  {
   "cell_type": "markdown",
   "metadata": {},
   "source": [
    "Загрузка классмодели и классов "
   ]
  },
  {
   "cell_type": "code",
   "execution_count": 11,
   "metadata": {},
   "outputs": [],
   "source": [
    "model_path = 'dogModelV2Big.keras'\n",
    "model = tf.keras.models.load_model(model_path)\n",
    "\n",
    "class_names = {\n",
    "        0: 'affenpinscher',\n",
    "        1: 'afghan_hound',\n",
    "        2: 'african_hunting_dog',\n",
    "        3: 'airedale',\n",
    "        4: 'american_staffordshire_terrier',\n",
    "        5: 'appenzeller',\n",
    "        6: 'australian_terrier',\n",
    "        7: 'basenji',\n",
    "        8: 'basset',\n",
    "        9: 'beagle',\n",
    "        10: 'bedlington_terrier',\n",
    "        11: 'bernese_mountain_dog',\n",
    "        12: 'black-and-tan_coonhound',\n",
    "        13: 'blenheim_spaniel',\n",
    "        14: 'bloodhound',\n",
    "        15: 'bluetick',\n",
    "        16: 'border_collie',\n",
    "        17: 'border_terrier',\n",
    "        18: 'borzoi',\n",
    "        19: 'boston_bull',\n",
    "        20: 'bouvier_des_flandres',\n",
    "        21: 'boxer',\n",
    "        22: 'brabancon_griffon',\n",
    "        23: 'briard',\n",
    "        24: 'brittany_spaniel',\n",
    "        25: 'bull_mastiff',\n",
    "        26: 'cairn',\n",
    "        27: 'cardigan',\n",
    "        28: 'chesapeake_bay_retriever',\n",
    "        29: 'chihuahua',\n",
    "        30: 'chow',\n",
    "        31: 'clumber',\n",
    "        32: 'cocker_spaniel',\n",
    "        33: 'collie',\n",
    "        34: 'curly-coated_retriever',\n",
    "        35: 'dandie_dinmont',\n",
    "        36: 'dhole',\n",
    "        37: 'dingo',\n",
    "        38: 'doberman',\n",
    "        39: 'english_foxhound',\n",
    "        40: 'english_setter',\n",
    "        41: 'english_springer',\n",
    "        42: 'entlebucher',\n",
    "        43: 'eskimo_dog',\n",
    "        44: 'flat-coated_retriever',\n",
    "        45: 'french_bulldog',\n",
    "        46: 'german_shepherd',\n",
    "        47: 'german_short-haired_pointer',\n",
    "        48: 'giant_schnauzer',\n",
    "        49: 'golden_retriever',\n",
    "        50: 'gordon_setter',\n",
    "        51: 'great_dane',\n",
    "        52: 'great_pyrenees',\n",
    "        53: 'greater_swiss_mountain_dog',\n",
    "        54: 'groenendael',\n",
    "        55: 'ibizan_hound',\n",
    "        56: 'irish_setter',\n",
    "        57: 'irish_terrier',\n",
    "        58: 'irish_water_spaniel',\n",
    "        59: 'irish_wolfhound',\n",
    "        60: 'italian_greyhound',\n",
    "        61: 'japanese_spaniel',\n",
    "        62: 'keeshond',\n",
    "        63: 'kelpie',\n",
    "        64: 'kerry_blue_terrier',\n",
    "        65: 'komondor',\n",
    "        66: 'kuvasz',\n",
    "        67: 'labrador_retriever',\n",
    "        68: 'lakeland_terrier',\n",
    "        69: 'leonberg',\n",
    "        70: 'lhasa',\n",
    "        71: 'malamute',\n",
    "        72: 'malinois',\n",
    "        73: 'maltese_dog',\n",
    "        74: 'mexican_hairless',\n",
    "        75: 'miniature_pinscher',\n",
    "        76: 'miniature_poodle',\n",
    "        77: 'miniature_schnauzer',\n",
    "        78: 'newfoundland',\n",
    "        79: 'norfolk_terrier',\n",
    "        80: 'norwegian_elkhound',\n",
    "        81: 'norwich_terrier',\n",
    "        82: 'old_english_sheepdog',\n",
    "        83: 'otterhound',\n",
    "        84: 'papillon',\n",
    "        85: 'pekinese',\n",
    "        86: 'pembroke',\n",
    "        87: 'pomeranian',\n",
    "        88: 'pug',\n",
    "        89: 'redbone',\n",
    "        90: 'rhodesian_ridgeback',\n",
    "        91: 'rottweiler',\n",
    "        92: 'saint_bernard',\n",
    "        93: 'saluki',\n",
    "        94: 'samoyed',\n",
    "        95: 'schipperke',\n",
    "        96: 'scotch_terrier',\n",
    "        97: 'scottish_deerhound',\n",
    "        98: 'sealyham_terrier',\n",
    "        99: 'shetland_sheepdog',\n",
    "        100: 'shih-tzu',\n",
    "        101: 'siberian_husky',\n",
    "        102: 'silky_terrier',\n",
    "        103: 'soft-coated_wheaten_terrier',\n",
    "        104: 'staffordshire_bullterrier',\n",
    "        105: 'standard_poodle',\n",
    "        106: 'standard_schnauzer',\n",
    "        107: 'sussex_spaniel',\n",
    "        108: 'tibetan_mastiff',\n",
    "        109: 'tibetan_terrier',\n",
    "        110: 'toy_poodle',\n",
    "        111: 'toy_terrier',\n",
    "        112: 'vizsla',\n",
    "        113: 'walker_hound',\n",
    "        114: 'weimaraner',\n",
    "        115: 'welsh_springer_spaniel',\n",
    "        116: 'west_highland_white_terrier',\n",
    "        117: 'whippet',\n",
    "        118: 'wire-haired_fox_terrier',\n",
    "        119: 'yorkshire_terrier'\n",
    "}"
   ]
  },
  {
   "cell_type": "markdown",
   "metadata": {},
   "source": [
    "Функция для классификации"
   ]
  },
  {
   "cell_type": "code",
   "execution_count": 12,
   "metadata": {},
   "outputs": [],
   "source": [
    "def predict_image(image_path):\n",
    "    if not os.path.exists(image_path):\n",
    "        print(f\"Файл {image_path} не найден.\")\n",
    "        return \"File not found\"\n",
    "\n",
    "    img = cv2.imread(image_path)\n",
    "    if img is None:\n",
    "        print(f\"Не удалось загрузить изображение {image_path}.\")\n",
    "        return \"Failed to load image\"\n",
    "\n",
    "    img = cv2.resize(img, (224, 224))\n",
    "    img = cv2.cvtColor(img, cv2.COLOR_BGR2RGB)\n",
    "    img = np.expand_dims(img, axis=0)\n",
    "    img = tf.keras.applications.mobilenet_v2.preprocess_input(img)\n",
    "\n",
    "    predictions = model.predict(img)\n",
    "    predicted_class = np.argmax(predictions[0])\n",
    "    predicted_label = class_names.get(predicted_class, \"Unknown class\")\n",
    "\n",
    "    return predicted_label"
   ]
  },
  {
   "cell_type": "markdown",
   "metadata": {},
   "source": [
    "Классификация пород "
   ]
  },
  {
   "cell_type": "code",
   "execution_count": 19,
   "metadata": {},
   "outputs": [
    {
     "name": "stdout",
     "output_type": "stream",
     "text": [
      "\u001b[1m1/1\u001b[0m \u001b[32m━━━━━━━━━━━━━━━━━━━━\u001b[0m\u001b[37m\u001b[0m \u001b[1m0s\u001b[0m 43ms/step\n",
      "Предсказанный класс для poodle.jpeg: miniature_poodle\n",
      "Файл beagle.jpeg не найден.\n",
      "Предсказанный класс для beagle.jpeg: File not found\n"
     ]
    }
   ],
   "source": [
    "import os\n",
    "\n",
    "image_paths = ['poodle.jpeg', 'foxhound.jpeg']\n",
    "\n",
    "for image_path in image_paths:\n",
    "    predicted_label = predict_image(image_path)\n",
    "    print(f\"Предсказанный класс для {image_path}: {predicted_label}\")"
   ]
  }
 ],
 "metadata": {
  "kernelspec": {
   "display_name": "Python 3",
   "language": "python",
   "name": "python3"
  },
  "language_info": {
   "codemirror_mode": {
    "name": "ipython",
    "version": 3
   },
   "file_extension": ".py",
   "mimetype": "text/x-python",
   "name": "python",
   "nbconvert_exporter": "python",
   "pygments_lexer": "ipython3",
   "version": "3.11.8"
  }
 },
 "nbformat": 4,
 "nbformat_minor": 2
}
